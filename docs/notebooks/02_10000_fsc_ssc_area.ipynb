{
  "nbformat": 4,
  "nbformat_minor": 0,
  "metadata": {
    "colab": {
      "provenance": [],
      "machine_shape": "hm"
    },
    "kernelspec": {
      "name": "python3",
      "display_name": "Python 3"
    },
    "language_info": {
      "name": "python"
    },
    "widgets": {
      "application/vnd.jupyter.widget-state+json": {
        "3e1200793c5e4b65a29996ef798d6ab4": {
          "model_module": "@jupyter-widgets/controls",
          "model_name": "HBoxModel",
          "model_module_version": "1.5.0",
          "state": {
            "_dom_classes": [],
            "_model_module": "@jupyter-widgets/controls",
            "_model_module_version": "1.5.0",
            "_model_name": "HBoxModel",
            "_view_count": null,
            "_view_module": "@jupyter-widgets/controls",
            "_view_module_version": "1.5.0",
            "_view_name": "HBoxView",
            "box_style": "",
            "children": [
              "IPY_MODEL_59e1bcc75bd149c6bc9cc71f7da58876",
              "IPY_MODEL_3f877e855d2748f69556cf78e630445f",
              "IPY_MODEL_04e6e9071fa149cb986b480965295206"
            ],
            "layout": "IPY_MODEL_46a9c68891aa410d9d6f34198f1e3bff"
          }
        },
        "59e1bcc75bd149c6bc9cc71f7da58876": {
          "model_module": "@jupyter-widgets/controls",
          "model_name": "HTMLModel",
          "model_module_version": "1.5.0",
          "state": {
            "_dom_classes": [],
            "_model_module": "@jupyter-widgets/controls",
            "_model_module_version": "1.5.0",
            "_model_name": "HTMLModel",
            "_view_count": null,
            "_view_module": "@jupyter-widgets/controls",
            "_view_module_version": "1.5.0",
            "_view_name": "HTMLView",
            "description": "",
            "description_tooltip": null,
            "layout": "IPY_MODEL_3119efb8f0e54f769a4f4c6791f71b74",
            "placeholder": "​",
            "style": "IPY_MODEL_60b5f9a17f7042209fea9883803c0261",
            "value": "100%"
          }
        },
        "3f877e855d2748f69556cf78e630445f": {
          "model_module": "@jupyter-widgets/controls",
          "model_name": "FloatProgressModel",
          "model_module_version": "1.5.0",
          "state": {
            "_dom_classes": [],
            "_model_module": "@jupyter-widgets/controls",
            "_model_module_version": "1.5.0",
            "_model_name": "FloatProgressModel",
            "_view_count": null,
            "_view_module": "@jupyter-widgets/controls",
            "_view_module_version": "1.5.0",
            "_view_name": "ProgressView",
            "bar_style": "success",
            "description": "",
            "description_tooltip": null,
            "layout": "IPY_MODEL_f0cc567437144d6d892db2996ba728ba",
            "max": 36,
            "min": 0,
            "orientation": "horizontal",
            "style": "IPY_MODEL_daba3b0adb0f4f1da948ecc72e14b2fb",
            "value": 36
          }
        },
        "04e6e9071fa149cb986b480965295206": {
          "model_module": "@jupyter-widgets/controls",
          "model_name": "HTMLModel",
          "model_module_version": "1.5.0",
          "state": {
            "_dom_classes": [],
            "_model_module": "@jupyter-widgets/controls",
            "_model_module_version": "1.5.0",
            "_model_name": "HTMLModel",
            "_view_count": null,
            "_view_module": "@jupyter-widgets/controls",
            "_view_module_version": "1.5.0",
            "_view_name": "HTMLView",
            "description": "",
            "description_tooltip": null,
            "layout": "IPY_MODEL_c397a3b6856d4c81b2984479797fb332",
            "placeholder": "​",
            "style": "IPY_MODEL_1c79c94ed6d14320bb76398ff00bc076",
            "value": " 36/36 [07:20&lt;00:00, 14.84s/it]"
          }
        },
        "46a9c68891aa410d9d6f34198f1e3bff": {
          "model_module": "@jupyter-widgets/base",
          "model_name": "LayoutModel",
          "model_module_version": "1.2.0",
          "state": {
            "_model_module": "@jupyter-widgets/base",
            "_model_module_version": "1.2.0",
            "_model_name": "LayoutModel",
            "_view_count": null,
            "_view_module": "@jupyter-widgets/base",
            "_view_module_version": "1.2.0",
            "_view_name": "LayoutView",
            "align_content": null,
            "align_items": null,
            "align_self": null,
            "border": null,
            "bottom": null,
            "display": null,
            "flex": null,
            "flex_flow": null,
            "grid_area": null,
            "grid_auto_columns": null,
            "grid_auto_flow": null,
            "grid_auto_rows": null,
            "grid_column": null,
            "grid_gap": null,
            "grid_row": null,
            "grid_template_areas": null,
            "grid_template_columns": null,
            "grid_template_rows": null,
            "height": null,
            "justify_content": null,
            "justify_items": null,
            "left": null,
            "margin": null,
            "max_height": null,
            "max_width": null,
            "min_height": null,
            "min_width": null,
            "object_fit": null,
            "object_position": null,
            "order": null,
            "overflow": null,
            "overflow_x": null,
            "overflow_y": null,
            "padding": null,
            "right": null,
            "top": null,
            "visibility": null,
            "width": null
          }
        },
        "3119efb8f0e54f769a4f4c6791f71b74": {
          "model_module": "@jupyter-widgets/base",
          "model_name": "LayoutModel",
          "model_module_version": "1.2.0",
          "state": {
            "_model_module": "@jupyter-widgets/base",
            "_model_module_version": "1.2.0",
            "_model_name": "LayoutModel",
            "_view_count": null,
            "_view_module": "@jupyter-widgets/base",
            "_view_module_version": "1.2.0",
            "_view_name": "LayoutView",
            "align_content": null,
            "align_items": null,
            "align_self": null,
            "border": null,
            "bottom": null,
            "display": null,
            "flex": null,
            "flex_flow": null,
            "grid_area": null,
            "grid_auto_columns": null,
            "grid_auto_flow": null,
            "grid_auto_rows": null,
            "grid_column": null,
            "grid_gap": null,
            "grid_row": null,
            "grid_template_areas": null,
            "grid_template_columns": null,
            "grid_template_rows": null,
            "height": null,
            "justify_content": null,
            "justify_items": null,
            "left": null,
            "margin": null,
            "max_height": null,
            "max_width": null,
            "min_height": null,
            "min_width": null,
            "object_fit": null,
            "object_position": null,
            "order": null,
            "overflow": null,
            "overflow_x": null,
            "overflow_y": null,
            "padding": null,
            "right": null,
            "top": null,
            "visibility": null,
            "width": null
          }
        },
        "60b5f9a17f7042209fea9883803c0261": {
          "model_module": "@jupyter-widgets/controls",
          "model_name": "DescriptionStyleModel",
          "model_module_version": "1.5.0",
          "state": {
            "_model_module": "@jupyter-widgets/controls",
            "_model_module_version": "1.5.0",
            "_model_name": "DescriptionStyleModel",
            "_view_count": null,
            "_view_module": "@jupyter-widgets/base",
            "_view_module_version": "1.2.0",
            "_view_name": "StyleView",
            "description_width": ""
          }
        },
        "f0cc567437144d6d892db2996ba728ba": {
          "model_module": "@jupyter-widgets/base",
          "model_name": "LayoutModel",
          "model_module_version": "1.2.0",
          "state": {
            "_model_module": "@jupyter-widgets/base",
            "_model_module_version": "1.2.0",
            "_model_name": "LayoutModel",
            "_view_count": null,
            "_view_module": "@jupyter-widgets/base",
            "_view_module_version": "1.2.0",
            "_view_name": "LayoutView",
            "align_content": null,
            "align_items": null,
            "align_self": null,
            "border": null,
            "bottom": null,
            "display": null,
            "flex": null,
            "flex_flow": null,
            "grid_area": null,
            "grid_auto_columns": null,
            "grid_auto_flow": null,
            "grid_auto_rows": null,
            "grid_column": null,
            "grid_gap": null,
            "grid_row": null,
            "grid_template_areas": null,
            "grid_template_columns": null,
            "grid_template_rows": null,
            "height": null,
            "justify_content": null,
            "justify_items": null,
            "left": null,
            "margin": null,
            "max_height": null,
            "max_width": null,
            "min_height": null,
            "min_width": null,
            "object_fit": null,
            "object_position": null,
            "order": null,
            "overflow": null,
            "overflow_x": null,
            "overflow_y": null,
            "padding": null,
            "right": null,
            "top": null,
            "visibility": null,
            "width": null
          }
        },
        "daba3b0adb0f4f1da948ecc72e14b2fb": {
          "model_module": "@jupyter-widgets/controls",
          "model_name": "ProgressStyleModel",
          "model_module_version": "1.5.0",
          "state": {
            "_model_module": "@jupyter-widgets/controls",
            "_model_module_version": "1.5.0",
            "_model_name": "ProgressStyleModel",
            "_view_count": null,
            "_view_module": "@jupyter-widgets/base",
            "_view_module_version": "1.2.0",
            "_view_name": "StyleView",
            "bar_color": null,
            "description_width": ""
          }
        },
        "c397a3b6856d4c81b2984479797fb332": {
          "model_module": "@jupyter-widgets/base",
          "model_name": "LayoutModel",
          "model_module_version": "1.2.0",
          "state": {
            "_model_module": "@jupyter-widgets/base",
            "_model_module_version": "1.2.0",
            "_model_name": "LayoutModel",
            "_view_count": null,
            "_view_module": "@jupyter-widgets/base",
            "_view_module_version": "1.2.0",
            "_view_name": "LayoutView",
            "align_content": null,
            "align_items": null,
            "align_self": null,
            "border": null,
            "bottom": null,
            "display": null,
            "flex": null,
            "flex_flow": null,
            "grid_area": null,
            "grid_auto_columns": null,
            "grid_auto_flow": null,
            "grid_auto_rows": null,
            "grid_column": null,
            "grid_gap": null,
            "grid_row": null,
            "grid_template_areas": null,
            "grid_template_columns": null,
            "grid_template_rows": null,
            "height": null,
            "justify_content": null,
            "justify_items": null,
            "left": null,
            "margin": null,
            "max_height": null,
            "max_width": null,
            "min_height": null,
            "min_width": null,
            "object_fit": null,
            "object_position": null,
            "order": null,
            "overflow": null,
            "overflow_x": null,
            "overflow_y": null,
            "padding": null,
            "right": null,
            "top": null,
            "visibility": null,
            "width": null
          }
        },
        "1c79c94ed6d14320bb76398ff00bc076": {
          "model_module": "@jupyter-widgets/controls",
          "model_name": "DescriptionStyleModel",
          "model_module_version": "1.5.0",
          "state": {
            "_model_module": "@jupyter-widgets/controls",
            "_model_module_version": "1.5.0",
            "_model_name": "DescriptionStyleModel",
            "_view_count": null,
            "_view_module": "@jupyter-widgets/base",
            "_view_module_version": "1.2.0",
            "_view_name": "StyleView",
            "description_width": ""
          }
        },
        "027694b435a449b5915e55cb9e2136b2": {
          "model_module": "@jupyter-widgets/controls",
          "model_name": "HBoxModel",
          "model_module_version": "1.5.0",
          "state": {
            "_dom_classes": [],
            "_model_module": "@jupyter-widgets/controls",
            "_model_module_version": "1.5.0",
            "_model_name": "HBoxModel",
            "_view_count": null,
            "_view_module": "@jupyter-widgets/controls",
            "_view_module_version": "1.5.0",
            "_view_name": "HBoxView",
            "box_style": "",
            "children": [
              "IPY_MODEL_4717b4d874ab40108e6a23a28109ac7f",
              "IPY_MODEL_4d9a734abf144d8fbdd80ca0431bd7a3",
              "IPY_MODEL_483c9405fd2e47719903122e6c2dacbf"
            ],
            "layout": "IPY_MODEL_49fda55f9971413688d6dc76c6099fb2"
          }
        },
        "4717b4d874ab40108e6a23a28109ac7f": {
          "model_module": "@jupyter-widgets/controls",
          "model_name": "HTMLModel",
          "model_module_version": "1.5.0",
          "state": {
            "_dom_classes": [],
            "_model_module": "@jupyter-widgets/controls",
            "_model_module_version": "1.5.0",
            "_model_name": "HTMLModel",
            "_view_count": null,
            "_view_module": "@jupyter-widgets/controls",
            "_view_module_version": "1.5.0",
            "_view_name": "HTMLView",
            "description": "",
            "description_tooltip": null,
            "layout": "IPY_MODEL_1fb58161e022456298e73398e0537db4",
            "placeholder": "​",
            "style": "IPY_MODEL_fe16e9555dbd4fea840eae7dd58e7f21",
            "value": "100%"
          }
        },
        "4d9a734abf144d8fbdd80ca0431bd7a3": {
          "model_module": "@jupyter-widgets/controls",
          "model_name": "FloatProgressModel",
          "model_module_version": "1.5.0",
          "state": {
            "_dom_classes": [],
            "_model_module": "@jupyter-widgets/controls",
            "_model_module_version": "1.5.0",
            "_model_name": "FloatProgressModel",
            "_view_count": null,
            "_view_module": "@jupyter-widgets/controls",
            "_view_module_version": "1.5.0",
            "_view_name": "ProgressView",
            "bar_style": "success",
            "description": "",
            "description_tooltip": null,
            "layout": "IPY_MODEL_865cce75ed6a433f876cfca81c5c0fdd",
            "max": 4,
            "min": 0,
            "orientation": "horizontal",
            "style": "IPY_MODEL_a4fc2829324c47c78ba17fc7bc67bc3f",
            "value": 4
          }
        },
        "483c9405fd2e47719903122e6c2dacbf": {
          "model_module": "@jupyter-widgets/controls",
          "model_name": "HTMLModel",
          "model_module_version": "1.5.0",
          "state": {
            "_dom_classes": [],
            "_model_module": "@jupyter-widgets/controls",
            "_model_module_version": "1.5.0",
            "_model_name": "HTMLModel",
            "_view_count": null,
            "_view_module": "@jupyter-widgets/controls",
            "_view_module_version": "1.5.0",
            "_view_name": "HTMLView",
            "description": "",
            "description_tooltip": null,
            "layout": "IPY_MODEL_3e6e71d2598a4cb28945f23642b2481a",
            "placeholder": "​",
            "style": "IPY_MODEL_f766cc78c51b4818a7b5702b3de3a8c8",
            "value": " 4/4 [00:53&lt;00:00, 13.37s/it]"
          }
        },
        "49fda55f9971413688d6dc76c6099fb2": {
          "model_module": "@jupyter-widgets/base",
          "model_name": "LayoutModel",
          "model_module_version": "1.2.0",
          "state": {
            "_model_module": "@jupyter-widgets/base",
            "_model_module_version": "1.2.0",
            "_model_name": "LayoutModel",
            "_view_count": null,
            "_view_module": "@jupyter-widgets/base",
            "_view_module_version": "1.2.0",
            "_view_name": "LayoutView",
            "align_content": null,
            "align_items": null,
            "align_self": null,
            "border": null,
            "bottom": null,
            "display": null,
            "flex": null,
            "flex_flow": null,
            "grid_area": null,
            "grid_auto_columns": null,
            "grid_auto_flow": null,
            "grid_auto_rows": null,
            "grid_column": null,
            "grid_gap": null,
            "grid_row": null,
            "grid_template_areas": null,
            "grid_template_columns": null,
            "grid_template_rows": null,
            "height": null,
            "justify_content": null,
            "justify_items": null,
            "left": null,
            "margin": null,
            "max_height": null,
            "max_width": null,
            "min_height": null,
            "min_width": null,
            "object_fit": null,
            "object_position": null,
            "order": null,
            "overflow": null,
            "overflow_x": null,
            "overflow_y": null,
            "padding": null,
            "right": null,
            "top": null,
            "visibility": null,
            "width": null
          }
        },
        "1fb58161e022456298e73398e0537db4": {
          "model_module": "@jupyter-widgets/base",
          "model_name": "LayoutModel",
          "model_module_version": "1.2.0",
          "state": {
            "_model_module": "@jupyter-widgets/base",
            "_model_module_version": "1.2.0",
            "_model_name": "LayoutModel",
            "_view_count": null,
            "_view_module": "@jupyter-widgets/base",
            "_view_module_version": "1.2.0",
            "_view_name": "LayoutView",
            "align_content": null,
            "align_items": null,
            "align_self": null,
            "border": null,
            "bottom": null,
            "display": null,
            "flex": null,
            "flex_flow": null,
            "grid_area": null,
            "grid_auto_columns": null,
            "grid_auto_flow": null,
            "grid_auto_rows": null,
            "grid_column": null,
            "grid_gap": null,
            "grid_row": null,
            "grid_template_areas": null,
            "grid_template_columns": null,
            "grid_template_rows": null,
            "height": null,
            "justify_content": null,
            "justify_items": null,
            "left": null,
            "margin": null,
            "max_height": null,
            "max_width": null,
            "min_height": null,
            "min_width": null,
            "object_fit": null,
            "object_position": null,
            "order": null,
            "overflow": null,
            "overflow_x": null,
            "overflow_y": null,
            "padding": null,
            "right": null,
            "top": null,
            "visibility": null,
            "width": null
          }
        },
        "fe16e9555dbd4fea840eae7dd58e7f21": {
          "model_module": "@jupyter-widgets/controls",
          "model_name": "DescriptionStyleModel",
          "model_module_version": "1.5.0",
          "state": {
            "_model_module": "@jupyter-widgets/controls",
            "_model_module_version": "1.5.0",
            "_model_name": "DescriptionStyleModel",
            "_view_count": null,
            "_view_module": "@jupyter-widgets/base",
            "_view_module_version": "1.2.0",
            "_view_name": "StyleView",
            "description_width": ""
          }
        },
        "865cce75ed6a433f876cfca81c5c0fdd": {
          "model_module": "@jupyter-widgets/base",
          "model_name": "LayoutModel",
          "model_module_version": "1.2.0",
          "state": {
            "_model_module": "@jupyter-widgets/base",
            "_model_module_version": "1.2.0",
            "_model_name": "LayoutModel",
            "_view_count": null,
            "_view_module": "@jupyter-widgets/base",
            "_view_module_version": "1.2.0",
            "_view_name": "LayoutView",
            "align_content": null,
            "align_items": null,
            "align_self": null,
            "border": null,
            "bottom": null,
            "display": null,
            "flex": null,
            "flex_flow": null,
            "grid_area": null,
            "grid_auto_columns": null,
            "grid_auto_flow": null,
            "grid_auto_rows": null,
            "grid_column": null,
            "grid_gap": null,
            "grid_row": null,
            "grid_template_areas": null,
            "grid_template_columns": null,
            "grid_template_rows": null,
            "height": null,
            "justify_content": null,
            "justify_items": null,
            "left": null,
            "margin": null,
            "max_height": null,
            "max_width": null,
            "min_height": null,
            "min_width": null,
            "object_fit": null,
            "object_position": null,
            "order": null,
            "overflow": null,
            "overflow_x": null,
            "overflow_y": null,
            "padding": null,
            "right": null,
            "top": null,
            "visibility": null,
            "width": null
          }
        },
        "a4fc2829324c47c78ba17fc7bc67bc3f": {
          "model_module": "@jupyter-widgets/controls",
          "model_name": "ProgressStyleModel",
          "model_module_version": "1.5.0",
          "state": {
            "_model_module": "@jupyter-widgets/controls",
            "_model_module_version": "1.5.0",
            "_model_name": "ProgressStyleModel",
            "_view_count": null,
            "_view_module": "@jupyter-widgets/base",
            "_view_module_version": "1.2.0",
            "_view_name": "StyleView",
            "bar_color": null,
            "description_width": ""
          }
        },
        "3e6e71d2598a4cb28945f23642b2481a": {
          "model_module": "@jupyter-widgets/base",
          "model_name": "LayoutModel",
          "model_module_version": "1.2.0",
          "state": {
            "_model_module": "@jupyter-widgets/base",
            "_model_module_version": "1.2.0",
            "_model_name": "LayoutModel",
            "_view_count": null,
            "_view_module": "@jupyter-widgets/base",
            "_view_module_version": "1.2.0",
            "_view_name": "LayoutView",
            "align_content": null,
            "align_items": null,
            "align_self": null,
            "border": null,
            "bottom": null,
            "display": null,
            "flex": null,
            "flex_flow": null,
            "grid_area": null,
            "grid_auto_columns": null,
            "grid_auto_flow": null,
            "grid_auto_rows": null,
            "grid_column": null,
            "grid_gap": null,
            "grid_row": null,
            "grid_template_areas": null,
            "grid_template_columns": null,
            "grid_template_rows": null,
            "height": null,
            "justify_content": null,
            "justify_items": null,
            "left": null,
            "margin": null,
            "max_height": null,
            "max_width": null,
            "min_height": null,
            "min_width": null,
            "object_fit": null,
            "object_position": null,
            "order": null,
            "overflow": null,
            "overflow_x": null,
            "overflow_y": null,
            "padding": null,
            "right": null,
            "top": null,
            "visibility": null,
            "width": null
          }
        },
        "f766cc78c51b4818a7b5702b3de3a8c8": {
          "model_module": "@jupyter-widgets/controls",
          "model_name": "DescriptionStyleModel",
          "model_module_version": "1.5.0",
          "state": {
            "_model_module": "@jupyter-widgets/controls",
            "_model_module_version": "1.5.0",
            "_model_name": "DescriptionStyleModel",
            "_view_count": null,
            "_view_module": "@jupyter-widgets/base",
            "_view_module_version": "1.2.0",
            "_view_name": "StyleView",
            "description_width": ""
          }
        }
      }
    }
  },
  "cells": [
    {
      "cell_type": "markdown",
      "source": [
        "## Dataset\n",
        "Google Drive or locally"
      ],
      "metadata": {
        "id": "YY0OSvlOrXtt"
      }
    },
    {
      "cell_type": "code",
      "execution_count": null,
      "metadata": {
        "colab": {
          "base_uri": "https://localhost:8080/"
        },
        "id": "voKC74BVZBw6",
        "outputId": "37c6de3d-9d82-48fe-d9b2-f34fac3b6913"
      },
      "outputs": [
        {
          "output_type": "stream",
          "name": "stdout",
          "text": [
            "Mounted at /content/drive\n"
          ]
        },
        {
          "output_type": "execute_result",
          "data": {
            "text/plain": [
              "True"
            ]
          },
          "metadata": {},
          "execution_count": 1
        }
      ],
      "source": [
        "import sys\n",
        "from pathlib import Path\n",
        "\n",
        "\n",
        "if \"google.colab\" in sys.modules:\n",
        "    from google.colab import drive\n",
        "    drive.mount(\"/content/drive\")\n",
        "    data_dir = Path(\"/content/drive/MyDrive/ahead\")\n",
        "else:\n",
        "    print(\n",
        "        \"I guess you're using a local jupyter server. \"\n",
        "        \"Please run the present notebook side by side the data files.\"\n",
        "    )\n",
        "    data_dir = Path.cwd().parent/\"data\"\n",
        "\n",
        "data_dir.is_dir()"
      ]
    },
    {
      "cell_type": "code",
      "source": [
        "list(data_dir.iterdir())"
      ],
      "metadata": {
        "colab": {
          "base_uri": "https://localhost:8080/"
        },
        "id": "eGGO8-NvaI8x",
        "outputId": "146fc5ee-f0bf-417e-fd2e-47e432cf8ef1"
      },
      "execution_count": null,
      "outputs": [
        {
          "output_type": "execute_result",
          "data": {
            "text/plain": [
              "[PosixPath('/content/drive/MyDrive/ahead/raw_fcs'),\n",
              " PosixPath('/content/drive/MyDrive/ahead/EU_label.xlsx'),\n",
              " PosixPath('/content/drive/MyDrive/ahead/raw_fcs.zip'),\n",
              " PosixPath('/content/drive/MyDrive/ahead/EU_marker_channel_mapping.xlsx'),\n",
              " PosixPath('/content/drive/MyDrive/ahead/summary.csv'),\n",
              " PosixPath('/content/drive/MyDrive/ahead/train'),\n",
              " PosixPath('/content/drive/MyDrive/ahead/val'),\n",
              " PosixPath('/content/drive/MyDrive/ahead/500_fsc_ssc_area_plots')]"
            ]
          },
          "metadata": {},
          "execution_count": 2
        }
      ]
    },
    {
      "cell_type": "markdown",
      "source": [
        "## Import Packages"
      ],
      "metadata": {
        "id": "UVEQnTvUraqq"
      }
    },
    {
      "cell_type": "code",
      "source": [
        "# !pip install -qqq FlowCal==1.3.0"
      ],
      "metadata": {
        "id": "xGOaXmkmraPJ"
      },
      "execution_count": null,
      "outputs": []
    },
    {
      "cell_type": "code",
      "source": [
        "!pip install -qqq git+https://github.com/phunc20/ahead.git"
      ],
      "metadata": {
        "colab": {
          "base_uri": "https://localhost:8080/"
        },
        "id": "52nVWvUUbCnU",
        "outputId": "f7d8b43d-b3f2-457e-c8c0-54ce78f5f1af"
      },
      "execution_count": null,
      "outputs": [
        {
          "output_type": "stream",
          "name": "stdout",
          "text": [
            "  Installing build dependencies ... \u001b[?25l\u001b[?25hdone\n",
            "  Getting requirements to build wheel ... \u001b[?25l\u001b[?25hdone\n",
            "  Installing backend dependencies ... \u001b[?25l\u001b[?25hdone\n",
            "  Preparing metadata (pyproject.toml) ... \u001b[?25l\u001b[?25hdone\n",
            "\u001b[2K     \u001b[90m━━━━━━━━━━━━━━━━━━━━━━━━━━━━━━━━━━━━━━━━\u001b[0m \u001b[32m82.3/82.3 kB\u001b[0m \u001b[31m1.8 MB/s\u001b[0m eta \u001b[36m0:00:00\u001b[0m\n",
            "\u001b[?25h  Preparing metadata (setup.py) ... \u001b[?25l\u001b[?25hdone\n",
            "\u001b[2K     \u001b[90m━━━━━━━━━━━━━━━━━━━━━━━━━━━━━━━━━━━━━━━\u001b[0m \u001b[32m103.3/103.3 kB\u001b[0m \u001b[31m5.5 MB/s\u001b[0m eta \u001b[36m0:00:00\u001b[0m\n",
            "\u001b[?25h  Building wheel for ahead (pyproject.toml) ... \u001b[?25l\u001b[?25hdone\n",
            "  Building wheel for FlowCal (setup.py) ... \u001b[?25l\u001b[?25hdone\n"
          ]
        }
      ]
    },
    {
      "cell_type": "code",
      "source": [
        "#import ahead\n",
        "import FlowCal\n",
        "import numpy as np\n",
        "import pandas as pd"
      ],
      "metadata": {
        "id": "bmDXD79jbVH1"
      },
      "execution_count": null,
      "outputs": []
    },
    {
      "cell_type": "markdown",
      "source": [
        "## The Excel Files"
      ],
      "metadata": {
        "id": "x-aVq6yccUni"
      }
    },
    {
      "cell_type": "code",
      "source": [
        "df_marker_channel = pd.read_excel(data_dir/\"EU_marker_channel_mapping.xlsx\")\n",
        "df_label = pd.read_excel(data_dir/\"EU_label.xlsx\")\n",
        "df_summary = pd.read_csv(data_dir/\"summary.csv\")\n",
        "\n",
        "print(f'df_marker_channel.shape   = {df_marker_channel.shape}')\n",
        "print(f'df_label.shape            = {df_label.shape}')\n",
        "print(f'df_summary.shape          = {df_summary.shape}')"
      ],
      "metadata": {
        "id": "Q-eEP_9XcenI",
        "colab": {
          "base_uri": "https://localhost:8080/"
        },
        "outputId": "e640a239-e62d-459d-bb7d-1be2858acb67"
      },
      "execution_count": null,
      "outputs": [
        {
          "output_type": "stream",
          "name": "stdout",
          "text": [
            "df_marker_channel.shape   = (35, 4)\n",
            "df_label.shape            = (40, 2)\n",
            "df_summary.shape          = (40, 3)\n"
          ]
        }
      ]
    },
    {
      "cell_type": "code",
      "source": [
        "# allowed_channels = df_marker_channel.loc[\n",
        "#     df_marker_channel[\"use\"]==1, \"PxN(channel)\"].to_list()\n",
        "# allowed_channels"
      ],
      "metadata": {
        "id": "mRLPOZowjbCc"
      },
      "execution_count": null,
      "outputs": []
    },
    {
      "cell_type": "code",
      "source": [
        "sub_dirs = sorted(subdir.name for subdir in (data_dir/\"raw_fcs\").iterdir())\n",
        "sub_dirs"
      ],
      "metadata": {
        "colab": {
          "base_uri": "https://localhost:8080/"
        },
        "id": "FXj6GyGbl5gW",
        "outputId": "d07e1ede-37e6-4ef8-ebe8-508b74794172"
      },
      "execution_count": null,
      "outputs": [
        {
          "output_type": "execute_result",
          "data": {
            "text/plain": [
              "['flowrepo_covid_EU_002_flow_001',\n",
              " 'flowrepo_covid_EU_003_flow_001',\n",
              " 'flowrepo_covid_EU_004_flow_001',\n",
              " 'flowrepo_covid_EU_005_flow_001',\n",
              " 'flowrepo_covid_EU_006_flow_001',\n",
              " 'flowrepo_covid_EU_007_flow_001',\n",
              " 'flowrepo_covid_EU_008_flow_001',\n",
              " 'flowrepo_covid_EU_009_flow_001',\n",
              " 'flowrepo_covid_EU_010_flow_001',\n",
              " 'flowrepo_covid_EU_011_flow_001',\n",
              " 'flowrepo_covid_EU_012_flow_001',\n",
              " 'flowrepo_covid_EU_013_flow_001',\n",
              " 'flowrepo_covid_EU_014_flow_001',\n",
              " 'flowrepo_covid_EU_015_flow_001',\n",
              " 'flowrepo_covid_EU_016_flow_001',\n",
              " 'flowrepo_covid_EU_017_flow_001',\n",
              " 'flowrepo_covid_EU_018_flow_001',\n",
              " 'flowrepo_covid_EU_019_flow_001',\n",
              " 'flowrepo_covid_EU_020_flow_001',\n",
              " 'flowrepo_covid_EU_021_flow_001',\n",
              " 'flowrepo_covid_EU_022_flow_001',\n",
              " 'flowrepo_covid_EU_023_flow_001',\n",
              " 'flowrepo_covid_EU_030_flow_001',\n",
              " 'flowrepo_covid_EU_031_flow_001',\n",
              " 'flowrepo_covid_EU_032_flow_001',\n",
              " 'flowrepo_covid_EU_033_flow_001',\n",
              " 'flowrepo_covid_EU_034_flow_001',\n",
              " 'flowrepo_covid_EU_035_flow_001',\n",
              " 'flowrepo_covid_EU_036_flow_001',\n",
              " 'flowrepo_covid_EU_037_flow_001',\n",
              " 'flowrepo_covid_EU_038_flow_001',\n",
              " 'flowrepo_covid_EU_039_flow_001',\n",
              " 'flowrepo_covid_EU_040_flow_001',\n",
              " 'flowrepo_covid_EU_041_flow_001',\n",
              " 'flowrepo_covid_EU_042_flow_001',\n",
              " 'flowrepo_covid_EU_043_flow_001',\n",
              " 'flowrepo_covid_EU_044_flow_001',\n",
              " 'flowrepo_covid_EU_046_flow_001',\n",
              " 'flowrepo_covid_EU_047_flow_001',\n",
              " 'flowrepo_covid_EU_048_flow_001']"
            ]
          },
          "metadata": {},
          "execution_count": 10
        }
      ]
    },
    {
      "cell_type": "code",
      "source": [
        "val_file_flow_ids = {\n",
        "    \"flowrepo_covid_EU_034_flow_001\",\n",
        "    \"flowrepo_covid_EU_048_flow_001\",\n",
        "    \"flowrepo_covid_EU_013_flow_001\",\n",
        "    \"flowrepo_covid_EU_004_flow_001\",\n",
        "}\n",
        "train_file_flow_ids = []\n",
        "for s in sub_dirs:\n",
        "    if s in val_file_flow_ids:\n",
        "        continue\n",
        "    train_file_flow_ids.append(s)\n",
        "len(train_file_flow_ids)"
      ],
      "metadata": {
        "colab": {
          "base_uri": "https://localhost:8080/"
        },
        "id": "v0k5Qc_qjQ52",
        "outputId": "342b33f9-b2e8-4205-8535-65f6971a1b34"
      },
      "execution_count": null,
      "outputs": [
        {
          "output_type": "execute_result",
          "data": {
            "text/plain": [
              "36"
            ]
          },
          "metadata": {},
          "execution_count": 11
        }
      ]
    },
    {
      "cell_type": "code",
      "source": [
        "!pip list | grep ahead"
      ],
      "metadata": {
        "colab": {
          "base_uri": "https://localhost:8080/"
        },
        "id": "Oor2ywDWlSjY",
        "outputId": "50f0293f-3095-41fa-d68e-73a3b2b51f39"
      },
      "execution_count": null,
      "outputs": [
        {
          "output_type": "stream",
          "name": "stdout",
          "text": [
            "ahead                            0.0.1\n"
          ]
        }
      ]
    },
    {
      "cell_type": "code",
      "source": [
        "!which pip"
      ],
      "metadata": {
        "colab": {
          "base_uri": "https://localhost:8080/"
        },
        "id": "JwlT1HnTxC8P",
        "outputId": "aec049c9-d419-4a90-c87c-94f0e280fb7c"
      },
      "execution_count": null,
      "outputs": [
        {
          "output_type": "stream",
          "name": "stdout",
          "text": [
            "/usr/local/bin/pip\n"
          ]
        }
      ]
    },
    {
      "cell_type": "code",
      "source": [
        "!which pip3"
      ],
      "metadata": {
        "colab": {
          "base_uri": "https://localhost:8080/"
        },
        "id": "GuIxyO46xH7a",
        "outputId": "268d0161-3152-4d99-8e34-9e56f39167aa"
      },
      "execution_count": null,
      "outputs": [
        {
          "output_type": "stream",
          "name": "stdout",
          "text": [
            "/usr/local/bin/pip3\n"
          ]
        }
      ]
    },
    {
      "cell_type": "code",
      "source": [
        "!ls -l $(which pip)"
      ],
      "metadata": {
        "colab": {
          "base_uri": "https://localhost:8080/"
        },
        "id": "h_wYhLbJxKy9",
        "outputId": "4b7832bc-6c17-434b-f6a2-6ae6efbf8e00"
      },
      "execution_count": null,
      "outputs": [
        {
          "output_type": "stream",
          "name": "stdout",
          "text": [
            "-r-xr-xr-x 1 root root 155 Jan  1  2000 /usr/local/bin/pip\n"
          ]
        }
      ]
    },
    {
      "cell_type": "code",
      "source": [
        "!ls -l $(which pip3)"
      ],
      "metadata": {
        "colab": {
          "base_uri": "https://localhost:8080/"
        },
        "id": "wcmkSLANxOt4",
        "outputId": "b130e83a-c02d-4936-a7fe-5623c75feef5"
      },
      "execution_count": null,
      "outputs": [
        {
          "output_type": "stream",
          "name": "stdout",
          "text": [
            "-rwxr-xr-x 1 root root 221 Jul 26 13:27 /usr/local/bin/pip3\n"
          ]
        }
      ]
    },
    {
      "cell_type": "code",
      "source": [
        "!which python"
      ],
      "metadata": {
        "colab": {
          "base_uri": "https://localhost:8080/"
        },
        "id": "jKSGQpUJxEsJ",
        "outputId": "8a727044-4ffb-4931-aa99-c7f68ceef61f"
      },
      "execution_count": null,
      "outputs": [
        {
          "output_type": "stream",
          "name": "stdout",
          "text": [
            "/usr/local/bin/python\n"
          ]
        }
      ]
    },
    {
      "cell_type": "code",
      "source": [
        "from __future__ import annotations\n",
        "from pathlib import Path\n",
        "\n",
        "import FlowCal\n",
        "\n",
        "\n",
        "def get_fsc_ssc_chunks(\n",
        "    fcs_file: str | Path,\n",
        "    *,\n",
        "    chunk_size: int = 500,\n",
        "    typ: str = \"A\",\n",
        "    gate_fraction: float = 0.0,\n",
        "):\n",
        "    channels = [f'FSC-{typ}', f'SSC-{typ}']\n",
        "    s = FlowCal.io.FCSData(str(fcs_file))\n",
        "    s = FlowCal.transform.to_rfi(s)\n",
        "    s_gated = FlowCal.gate.high_low(\n",
        "        s,\n",
        "        channels=channels,\n",
        "    )\n",
        "    if gate_fraction:\n",
        "        s_gated = FlowCal.gate.density2d(\n",
        "            s_gated,\n",
        "            channels=channels,\n",
        "            gate_fraction=gate_fraction,\n",
        "        )\n",
        "    n_events = s_gated.shape[0]\n",
        "    for k in range(0, n_events, chunk_size):\n",
        "        chunk = s_gated[k:k+chunk_size, channels]\n",
        "        yield chunk"
      ],
      "metadata": {
        "id": "cELaJ1jAlmU5"
      },
      "execution_count": null,
      "outputs": []
    },
    {
      "cell_type": "code",
      "source": [
        "from tqdm.auto import tqdm\n",
        "#from ahead.util import get_fsc_ssc_chunks\n",
        "#import ahead"
      ],
      "metadata": {
        "id": "NQ6WhFjxkOia"
      },
      "execution_count": null,
      "outputs": []
    },
    {
      "cell_type": "code",
      "source": [
        "df_summary"
      ],
      "metadata": {
        "colab": {
          "base_uri": "https://localhost:8080/",
          "height": 1000
        },
        "id": "RLzj_PPYltA5",
        "outputId": "24b56daa-f3d5-48fd-b857-2ef47d45a1f0"
      },
      "execution_count": null,
      "outputs": [
        {
          "output_type": "execute_result",
          "data": {
            "text/plain": [
              "                      file_flow_id  n_events  wuhan\n",
              "0   flowrepo_covid_EU_007_flow_001      1860  False\n",
              "1   flowrepo_covid_EU_002_flow_001    363314  False\n",
              "2   flowrepo_covid_EU_004_flow_001    183001  False\n",
              "3   flowrepo_covid_EU_005_flow_001    298047  False\n",
              "4   flowrepo_covid_EU_006_flow_001    248917  False\n",
              "5   flowrepo_covid_EU_003_flow_001    311492  False\n",
              "6   flowrepo_covid_EU_008_flow_001     10959  False\n",
              "7   flowrepo_covid_EU_011_flow_001     29363  False\n",
              "8   flowrepo_covid_EU_012_flow_001     18618  False\n",
              "9   flowrepo_covid_EU_010_flow_001     17412  False\n",
              "10  flowrepo_covid_EU_013_flow_001    170075  False\n",
              "11  flowrepo_covid_EU_009_flow_001      2636  False\n",
              "12  flowrepo_covid_EU_018_flow_001    185298   True\n",
              "13  flowrepo_covid_EU_016_flow_001     10127   True\n",
              "14  flowrepo_covid_EU_019_flow_001     36744   True\n",
              "15  flowrepo_covid_EU_014_flow_001     15792   True\n",
              "16  flowrepo_covid_EU_017_flow_001    329393   True\n",
              "17  flowrepo_covid_EU_015_flow_001    139037   True\n",
              "18  flowrepo_covid_EU_021_flow_001     78856   True\n",
              "19  flowrepo_covid_EU_022_flow_001     61226   True\n",
              "20  flowrepo_covid_EU_020_flow_001    271522   True\n",
              "21  flowrepo_covid_EU_023_flow_001    163885   True\n",
              "22  flowrepo_covid_EU_035_flow_001     68610   True\n",
              "23  flowrepo_covid_EU_034_flow_001     98608   True\n",
              "24  flowrepo_covid_EU_031_flow_001    155175   True\n",
              "25  flowrepo_covid_EU_030_flow_001     27390   True\n",
              "26  flowrepo_covid_EU_032_flow_001     13767   True\n",
              "27  flowrepo_covid_EU_033_flow_001     22520   True\n",
              "28  flowrepo_covid_EU_039_flow_001    266928   True\n",
              "29  flowrepo_covid_EU_036_flow_001     17164   True\n",
              "30  flowrepo_covid_EU_037_flow_001    186246   True\n",
              "31  flowrepo_covid_EU_038_flow_001    337833   True\n",
              "32  flowrepo_covid_EU_043_flow_001     83002   True\n",
              "33  flowrepo_covid_EU_041_flow_001       680   True\n",
              "34  flowrepo_covid_EU_042_flow_001     15778   True\n",
              "35  flowrepo_covid_EU_040_flow_001    193497   True\n",
              "36  flowrepo_covid_EU_048_flow_001    123154   True\n",
              "37  flowrepo_covid_EU_047_flow_001    245734   True\n",
              "38  flowrepo_covid_EU_044_flow_001     13728   True\n",
              "39  flowrepo_covid_EU_046_flow_001    235332   True"
            ],
            "text/html": [
              "\n",
              "\n",
              "  <div id=\"df-77c46c23-f93f-4103-92e0-18bd8bda4c27\">\n",
              "    <div class=\"colab-df-container\">\n",
              "      <div>\n",
              "<style scoped>\n",
              "    .dataframe tbody tr th:only-of-type {\n",
              "        vertical-align: middle;\n",
              "    }\n",
              "\n",
              "    .dataframe tbody tr th {\n",
              "        vertical-align: top;\n",
              "    }\n",
              "\n",
              "    .dataframe thead th {\n",
              "        text-align: right;\n",
              "    }\n",
              "</style>\n",
              "<table border=\"1\" class=\"dataframe\">\n",
              "  <thead>\n",
              "    <tr style=\"text-align: right;\">\n",
              "      <th></th>\n",
              "      <th>file_flow_id</th>\n",
              "      <th>n_events</th>\n",
              "      <th>wuhan</th>\n",
              "    </tr>\n",
              "  </thead>\n",
              "  <tbody>\n",
              "    <tr>\n",
              "      <th>0</th>\n",
              "      <td>flowrepo_covid_EU_007_flow_001</td>\n",
              "      <td>1860</td>\n",
              "      <td>False</td>\n",
              "    </tr>\n",
              "    <tr>\n",
              "      <th>1</th>\n",
              "      <td>flowrepo_covid_EU_002_flow_001</td>\n",
              "      <td>363314</td>\n",
              "      <td>False</td>\n",
              "    </tr>\n",
              "    <tr>\n",
              "      <th>2</th>\n",
              "      <td>flowrepo_covid_EU_004_flow_001</td>\n",
              "      <td>183001</td>\n",
              "      <td>False</td>\n",
              "    </tr>\n",
              "    <tr>\n",
              "      <th>3</th>\n",
              "      <td>flowrepo_covid_EU_005_flow_001</td>\n",
              "      <td>298047</td>\n",
              "      <td>False</td>\n",
              "    </tr>\n",
              "    <tr>\n",
              "      <th>4</th>\n",
              "      <td>flowrepo_covid_EU_006_flow_001</td>\n",
              "      <td>248917</td>\n",
              "      <td>False</td>\n",
              "    </tr>\n",
              "    <tr>\n",
              "      <th>5</th>\n",
              "      <td>flowrepo_covid_EU_003_flow_001</td>\n",
              "      <td>311492</td>\n",
              "      <td>False</td>\n",
              "    </tr>\n",
              "    <tr>\n",
              "      <th>6</th>\n",
              "      <td>flowrepo_covid_EU_008_flow_001</td>\n",
              "      <td>10959</td>\n",
              "      <td>False</td>\n",
              "    </tr>\n",
              "    <tr>\n",
              "      <th>7</th>\n",
              "      <td>flowrepo_covid_EU_011_flow_001</td>\n",
              "      <td>29363</td>\n",
              "      <td>False</td>\n",
              "    </tr>\n",
              "    <tr>\n",
              "      <th>8</th>\n",
              "      <td>flowrepo_covid_EU_012_flow_001</td>\n",
              "      <td>18618</td>\n",
              "      <td>False</td>\n",
              "    </tr>\n",
              "    <tr>\n",
              "      <th>9</th>\n",
              "      <td>flowrepo_covid_EU_010_flow_001</td>\n",
              "      <td>17412</td>\n",
              "      <td>False</td>\n",
              "    </tr>\n",
              "    <tr>\n",
              "      <th>10</th>\n",
              "      <td>flowrepo_covid_EU_013_flow_001</td>\n",
              "      <td>170075</td>\n",
              "      <td>False</td>\n",
              "    </tr>\n",
              "    <tr>\n",
              "      <th>11</th>\n",
              "      <td>flowrepo_covid_EU_009_flow_001</td>\n",
              "      <td>2636</td>\n",
              "      <td>False</td>\n",
              "    </tr>\n",
              "    <tr>\n",
              "      <th>12</th>\n",
              "      <td>flowrepo_covid_EU_018_flow_001</td>\n",
              "      <td>185298</td>\n",
              "      <td>True</td>\n",
              "    </tr>\n",
              "    <tr>\n",
              "      <th>13</th>\n",
              "      <td>flowrepo_covid_EU_016_flow_001</td>\n",
              "      <td>10127</td>\n",
              "      <td>True</td>\n",
              "    </tr>\n",
              "    <tr>\n",
              "      <th>14</th>\n",
              "      <td>flowrepo_covid_EU_019_flow_001</td>\n",
              "      <td>36744</td>\n",
              "      <td>True</td>\n",
              "    </tr>\n",
              "    <tr>\n",
              "      <th>15</th>\n",
              "      <td>flowrepo_covid_EU_014_flow_001</td>\n",
              "      <td>15792</td>\n",
              "      <td>True</td>\n",
              "    </tr>\n",
              "    <tr>\n",
              "      <th>16</th>\n",
              "      <td>flowrepo_covid_EU_017_flow_001</td>\n",
              "      <td>329393</td>\n",
              "      <td>True</td>\n",
              "    </tr>\n",
              "    <tr>\n",
              "      <th>17</th>\n",
              "      <td>flowrepo_covid_EU_015_flow_001</td>\n",
              "      <td>139037</td>\n",
              "      <td>True</td>\n",
              "    </tr>\n",
              "    <tr>\n",
              "      <th>18</th>\n",
              "      <td>flowrepo_covid_EU_021_flow_001</td>\n",
              "      <td>78856</td>\n",
              "      <td>True</td>\n",
              "    </tr>\n",
              "    <tr>\n",
              "      <th>19</th>\n",
              "      <td>flowrepo_covid_EU_022_flow_001</td>\n",
              "      <td>61226</td>\n",
              "      <td>True</td>\n",
              "    </tr>\n",
              "    <tr>\n",
              "      <th>20</th>\n",
              "      <td>flowrepo_covid_EU_020_flow_001</td>\n",
              "      <td>271522</td>\n",
              "      <td>True</td>\n",
              "    </tr>\n",
              "    <tr>\n",
              "      <th>21</th>\n",
              "      <td>flowrepo_covid_EU_023_flow_001</td>\n",
              "      <td>163885</td>\n",
              "      <td>True</td>\n",
              "    </tr>\n",
              "    <tr>\n",
              "      <th>22</th>\n",
              "      <td>flowrepo_covid_EU_035_flow_001</td>\n",
              "      <td>68610</td>\n",
              "      <td>True</td>\n",
              "    </tr>\n",
              "    <tr>\n",
              "      <th>23</th>\n",
              "      <td>flowrepo_covid_EU_034_flow_001</td>\n",
              "      <td>98608</td>\n",
              "      <td>True</td>\n",
              "    </tr>\n",
              "    <tr>\n",
              "      <th>24</th>\n",
              "      <td>flowrepo_covid_EU_031_flow_001</td>\n",
              "      <td>155175</td>\n",
              "      <td>True</td>\n",
              "    </tr>\n",
              "    <tr>\n",
              "      <th>25</th>\n",
              "      <td>flowrepo_covid_EU_030_flow_001</td>\n",
              "      <td>27390</td>\n",
              "      <td>True</td>\n",
              "    </tr>\n",
              "    <tr>\n",
              "      <th>26</th>\n",
              "      <td>flowrepo_covid_EU_032_flow_001</td>\n",
              "      <td>13767</td>\n",
              "      <td>True</td>\n",
              "    </tr>\n",
              "    <tr>\n",
              "      <th>27</th>\n",
              "      <td>flowrepo_covid_EU_033_flow_001</td>\n",
              "      <td>22520</td>\n",
              "      <td>True</td>\n",
              "    </tr>\n",
              "    <tr>\n",
              "      <th>28</th>\n",
              "      <td>flowrepo_covid_EU_039_flow_001</td>\n",
              "      <td>266928</td>\n",
              "      <td>True</td>\n",
              "    </tr>\n",
              "    <tr>\n",
              "      <th>29</th>\n",
              "      <td>flowrepo_covid_EU_036_flow_001</td>\n",
              "      <td>17164</td>\n",
              "      <td>True</td>\n",
              "    </tr>\n",
              "    <tr>\n",
              "      <th>30</th>\n",
              "      <td>flowrepo_covid_EU_037_flow_001</td>\n",
              "      <td>186246</td>\n",
              "      <td>True</td>\n",
              "    </tr>\n",
              "    <tr>\n",
              "      <th>31</th>\n",
              "      <td>flowrepo_covid_EU_038_flow_001</td>\n",
              "      <td>337833</td>\n",
              "      <td>True</td>\n",
              "    </tr>\n",
              "    <tr>\n",
              "      <th>32</th>\n",
              "      <td>flowrepo_covid_EU_043_flow_001</td>\n",
              "      <td>83002</td>\n",
              "      <td>True</td>\n",
              "    </tr>\n",
              "    <tr>\n",
              "      <th>33</th>\n",
              "      <td>flowrepo_covid_EU_041_flow_001</td>\n",
              "      <td>680</td>\n",
              "      <td>True</td>\n",
              "    </tr>\n",
              "    <tr>\n",
              "      <th>34</th>\n",
              "      <td>flowrepo_covid_EU_042_flow_001</td>\n",
              "      <td>15778</td>\n",
              "      <td>True</td>\n",
              "    </tr>\n",
              "    <tr>\n",
              "      <th>35</th>\n",
              "      <td>flowrepo_covid_EU_040_flow_001</td>\n",
              "      <td>193497</td>\n",
              "      <td>True</td>\n",
              "    </tr>\n",
              "    <tr>\n",
              "      <th>36</th>\n",
              "      <td>flowrepo_covid_EU_048_flow_001</td>\n",
              "      <td>123154</td>\n",
              "      <td>True</td>\n",
              "    </tr>\n",
              "    <tr>\n",
              "      <th>37</th>\n",
              "      <td>flowrepo_covid_EU_047_flow_001</td>\n",
              "      <td>245734</td>\n",
              "      <td>True</td>\n",
              "    </tr>\n",
              "    <tr>\n",
              "      <th>38</th>\n",
              "      <td>flowrepo_covid_EU_044_flow_001</td>\n",
              "      <td>13728</td>\n",
              "      <td>True</td>\n",
              "    </tr>\n",
              "    <tr>\n",
              "      <th>39</th>\n",
              "      <td>flowrepo_covid_EU_046_flow_001</td>\n",
              "      <td>235332</td>\n",
              "      <td>True</td>\n",
              "    </tr>\n",
              "  </tbody>\n",
              "</table>\n",
              "</div>\n",
              "      <button class=\"colab-df-convert\" onclick=\"convertToInteractive('df-77c46c23-f93f-4103-92e0-18bd8bda4c27')\"\n",
              "              title=\"Convert this dataframe to an interactive table.\"\n",
              "              style=\"display:none;\">\n",
              "\n",
              "  <svg xmlns=\"http://www.w3.org/2000/svg\" height=\"24px\"viewBox=\"0 0 24 24\"\n",
              "       width=\"24px\">\n",
              "    <path d=\"M0 0h24v24H0V0z\" fill=\"none\"/>\n",
              "    <path d=\"M18.56 5.44l.94 2.06.94-2.06 2.06-.94-2.06-.94-.94-2.06-.94 2.06-2.06.94zm-11 1L8.5 8.5l.94-2.06 2.06-.94-2.06-.94L8.5 2.5l-.94 2.06-2.06.94zm10 10l.94 2.06.94-2.06 2.06-.94-2.06-.94-.94-2.06-.94 2.06-2.06.94z\"/><path d=\"M17.41 7.96l-1.37-1.37c-.4-.4-.92-.59-1.43-.59-.52 0-1.04.2-1.43.59L10.3 9.45l-7.72 7.72c-.78.78-.78 2.05 0 2.83L4 21.41c.39.39.9.59 1.41.59.51 0 1.02-.2 1.41-.59l7.78-7.78 2.81-2.81c.8-.78.8-2.07 0-2.86zM5.41 20L4 18.59l7.72-7.72 1.47 1.35L5.41 20z\"/>\n",
              "  </svg>\n",
              "      </button>\n",
              "\n",
              "\n",
              "\n",
              "    <div id=\"df-08da2cfc-67b2-4b54-843e-849291d41172\">\n",
              "      <button class=\"colab-df-quickchart\" onclick=\"quickchart('df-08da2cfc-67b2-4b54-843e-849291d41172')\"\n",
              "              title=\"Suggest charts.\"\n",
              "              style=\"display:none;\">\n",
              "\n",
              "<svg xmlns=\"http://www.w3.org/2000/svg\" height=\"24px\"viewBox=\"0 0 24 24\"\n",
              "     width=\"24px\">\n",
              "    <g>\n",
              "        <path d=\"M19 3H5c-1.1 0-2 .9-2 2v14c0 1.1.9 2 2 2h14c1.1 0 2-.9 2-2V5c0-1.1-.9-2-2-2zM9 17H7v-7h2v7zm4 0h-2V7h2v10zm4 0h-2v-4h2v4z\"/>\n",
              "    </g>\n",
              "</svg>\n",
              "      </button>\n",
              "    </div>\n",
              "\n",
              "<style>\n",
              "  .colab-df-quickchart {\n",
              "    background-color: #E8F0FE;\n",
              "    border: none;\n",
              "    border-radius: 50%;\n",
              "    cursor: pointer;\n",
              "    display: none;\n",
              "    fill: #1967D2;\n",
              "    height: 32px;\n",
              "    padding: 0 0 0 0;\n",
              "    width: 32px;\n",
              "  }\n",
              "\n",
              "  .colab-df-quickchart:hover {\n",
              "    background-color: #E2EBFA;\n",
              "    box-shadow: 0px 1px 2px rgba(60, 64, 67, 0.3), 0px 1px 3px 1px rgba(60, 64, 67, 0.15);\n",
              "    fill: #174EA6;\n",
              "  }\n",
              "\n",
              "  [theme=dark] .colab-df-quickchart {\n",
              "    background-color: #3B4455;\n",
              "    fill: #D2E3FC;\n",
              "  }\n",
              "\n",
              "  [theme=dark] .colab-df-quickchart:hover {\n",
              "    background-color: #434B5C;\n",
              "    box-shadow: 0px 1px 3px 1px rgba(0, 0, 0, 0.15);\n",
              "    filter: drop-shadow(0px 1px 2px rgba(0, 0, 0, 0.3));\n",
              "    fill: #FFFFFF;\n",
              "  }\n",
              "</style>\n",
              "\n",
              "    <script>\n",
              "      async function quickchart(key) {\n",
              "        const containerElement = document.querySelector('#' + key);\n",
              "        const charts = await google.colab.kernel.invokeFunction(\n",
              "            'suggestCharts', [key], {});\n",
              "      }\n",
              "    </script>\n",
              "\n",
              "      <script>\n",
              "\n",
              "function displayQuickchartButton(domScope) {\n",
              "  let quickchartButtonEl =\n",
              "    domScope.querySelector('#df-08da2cfc-67b2-4b54-843e-849291d41172 button.colab-df-quickchart');\n",
              "  quickchartButtonEl.style.display =\n",
              "    google.colab.kernel.accessAllowed ? 'block' : 'none';\n",
              "}\n",
              "\n",
              "        displayQuickchartButton(document);\n",
              "      </script>\n",
              "      <style>\n",
              "    .colab-df-container {\n",
              "      display:flex;\n",
              "      flex-wrap:wrap;\n",
              "      gap: 12px;\n",
              "    }\n",
              "\n",
              "    .colab-df-convert {\n",
              "      background-color: #E8F0FE;\n",
              "      border: none;\n",
              "      border-radius: 50%;\n",
              "      cursor: pointer;\n",
              "      display: none;\n",
              "      fill: #1967D2;\n",
              "      height: 32px;\n",
              "      padding: 0 0 0 0;\n",
              "      width: 32px;\n",
              "    }\n",
              "\n",
              "    .colab-df-convert:hover {\n",
              "      background-color: #E2EBFA;\n",
              "      box-shadow: 0px 1px 2px rgba(60, 64, 67, 0.3), 0px 1px 3px 1px rgba(60, 64, 67, 0.15);\n",
              "      fill: #174EA6;\n",
              "    }\n",
              "\n",
              "    [theme=dark] .colab-df-convert {\n",
              "      background-color: #3B4455;\n",
              "      fill: #D2E3FC;\n",
              "    }\n",
              "\n",
              "    [theme=dark] .colab-df-convert:hover {\n",
              "      background-color: #434B5C;\n",
              "      box-shadow: 0px 1px 3px 1px rgba(0, 0, 0, 0.15);\n",
              "      filter: drop-shadow(0px 1px 2px rgba(0, 0, 0, 0.3));\n",
              "      fill: #FFFFFF;\n",
              "    }\n",
              "  </style>\n",
              "\n",
              "      <script>\n",
              "        const buttonEl =\n",
              "          document.querySelector('#df-77c46c23-f93f-4103-92e0-18bd8bda4c27 button.colab-df-convert');\n",
              "        buttonEl.style.display =\n",
              "          google.colab.kernel.accessAllowed ? 'block' : 'none';\n",
              "\n",
              "        async function convertToInteractive(key) {\n",
              "          const element = document.querySelector('#df-77c46c23-f93f-4103-92e0-18bd8bda4c27');\n",
              "          const dataTable =\n",
              "            await google.colab.kernel.invokeFunction('convertToInteractive',\n",
              "                                                     [key], {});\n",
              "          if (!dataTable) return;\n",
              "\n",
              "          const docLinkHtml = 'Like what you see? Visit the ' +\n",
              "            '<a target=\"_blank\" href=https://colab.research.google.com/notebooks/data_table.ipynb>data table notebook</a>'\n",
              "            + ' to learn more about interactive tables.';\n",
              "          element.innerHTML = '';\n",
              "          dataTable['output_type'] = 'display_data';\n",
              "          await google.colab.output.renderOutput(dataTable, element);\n",
              "          const docLink = document.createElement('div');\n",
              "          docLink.innerHTML = docLinkHtml;\n",
              "          element.appendChild(docLink);\n",
              "        }\n",
              "      </script>\n",
              "    </div>\n",
              "  </div>\n"
            ]
          },
          "metadata": {},
          "execution_count": 20
        }
      ]
    },
    {
      "cell_type": "code",
      "source": [
        "chunk_size = 10_000\n",
        "gate_fraction = 0.75\n",
        "typ = \"A\""
      ],
      "metadata": {
        "id": "4VTZc4rp3qxc"
      },
      "execution_count": null,
      "outputs": []
    },
    {
      "cell_type": "code",
      "source": [
        "plot_dir = data_dir/f'{chunk_size}_fsc_ssc_area_plots'\n",
        "plot_dir.mkdir(exist_ok=True, parents=True)\n",
        "\n",
        "for file_flow_id in tqdm(train_file_flow_ids):\n",
        "    fcs_file = next((data_dir/f'raw_fcs/{file_flow_id}').glob(\"*.fcs\"))\n",
        "    wuhan = df_summary.loc[df_summary[\"file_flow_id\"] == file_flow_id, \"wuhan\"]\n",
        "    for k, chunk in enumerate(get_fsc_ssc_chunks(\n",
        "        fcs_file,\n",
        "        chunk_size=chunk_size,\n",
        "        typ=\"A\",\n",
        "        gate_fraction=gate_fraction,\n",
        "    )):\n",
        "        plot_file = plot_dir/f'{int(wuhan)}_{file_flow_id}_chunk_{k}.png'\n",
        "        FlowCal.plot.density2d(\n",
        "            chunk,\n",
        "            mode=\"scatter\",\n",
        "            savefig=plot_file,\n",
        "        )"
      ],
      "metadata": {
        "colab": {
          "base_uri": "https://localhost:8080/",
          "height": 49,
          "referenced_widgets": [
            "3e1200793c5e4b65a29996ef798d6ab4",
            "59e1bcc75bd149c6bc9cc71f7da58876",
            "3f877e855d2748f69556cf78e630445f",
            "04e6e9071fa149cb986b480965295206",
            "46a9c68891aa410d9d6f34198f1e3bff",
            "3119efb8f0e54f769a4f4c6791f71b74",
            "60b5f9a17f7042209fea9883803c0261",
            "f0cc567437144d6d892db2996ba728ba",
            "daba3b0adb0f4f1da948ecc72e14b2fb",
            "c397a3b6856d4c81b2984479797fb332",
            "1c79c94ed6d14320bb76398ff00bc076"
          ]
        },
        "id": "htgYhAZwls1M",
        "outputId": "36447b53-8381-4672-b2c4-876760c0f48a"
      },
      "execution_count": null,
      "outputs": [
        {
          "output_type": "display_data",
          "data": {
            "text/plain": [
              "  0%|          | 0/36 [00:00<?, ?it/s]"
            ],
            "application/vnd.jupyter.widget-view+json": {
              "version_major": 2,
              "version_minor": 0,
              "model_id": "3e1200793c5e4b65a29996ef798d6ab4"
            }
          },
          "metadata": {}
        }
      ]
    },
    {
      "cell_type": "code",
      "source": [
        "!ls {plot_dir} | wc -l"
      ],
      "metadata": {
        "colab": {
          "base_uri": "https://localhost:8080/"
        },
        "id": "EXCaNYyBzgNG",
        "outputId": "f0c208e2-6c44-447d-e9d6-cd93656355d3"
      },
      "execution_count": null,
      "outputs": [
        {
          "output_type": "stream",
          "name": "stdout",
          "text": [
            "357\n"
          ]
        }
      ]
    },
    {
      "cell_type": "code",
      "source": [
        "!ls {plot_dir} | grep \"^0_\" | wc -l"
      ],
      "metadata": {
        "colab": {
          "base_uri": "https://localhost:8080/"
        },
        "id": "f4j6_Yz0zmVb",
        "outputId": "ea8cb105-aa05-493d-da51-c8d08118d1f9"
      },
      "execution_count": null,
      "outputs": [
        {
          "output_type": "stream",
          "name": "stdout",
          "text": [
            "104\n"
          ]
        }
      ]
    },
    {
      "cell_type": "code",
      "source": [
        "!ls {plot_dir} | grep \"^1_\" | wc -l"
      ],
      "metadata": {
        "colab": {
          "base_uri": "https://localhost:8080/"
        },
        "id": "GAk_kgygztkT",
        "outputId": "6f6b91d1-87b4-4665-ca26-df4442e294c9"
      },
      "execution_count": null,
      "outputs": [
        {
          "output_type": "stream",
          "name": "stdout",
          "text": [
            "253\n"
          ]
        }
      ]
    },
    {
      "cell_type": "code",
      "source": [
        "!mkdir -p {plot_dir}/healthy\n",
        "!mv {plot_dir}/0_* {plot_dir}/healthy"
      ],
      "metadata": {
        "id": "lnGxXf2q1RLT"
      },
      "execution_count": null,
      "outputs": []
    },
    {
      "cell_type": "code",
      "source": [
        "!mkdir -p {plot_dir}/sick\n",
        "!mv {plot_dir}/1_* {plot_dir}/sick"
      ],
      "metadata": {
        "id": "GAFXZWOykhEc"
      },
      "execution_count": null,
      "outputs": []
    },
    {
      "cell_type": "code",
      "source": [
        "!echo {plot_dir}"
      ],
      "metadata": {
        "id": "6whfdObp44M9",
        "outputId": "5ab062d8-2b41-4bb5-8a3f-2b5162922de2",
        "colab": {
          "base_uri": "https://localhost:8080/"
        }
      },
      "execution_count": null,
      "outputs": [
        {
          "output_type": "stream",
          "name": "stdout",
          "text": [
            "/content/drive/MyDrive/ahead/10000_fsc_ssc_area_plots\n"
          ]
        }
      ]
    },
    {
      "cell_type": "code",
      "source": [
        "!mkdir -p {plot_dir}/train\n",
        "!mv {plot_dir}/sick {plot_dir}/train/\n",
        "!mv {plot_dir}/sick {plot_dir}/train/"
      ],
      "metadata": {
        "id": "dNvQqNNY4t2A"
      },
      "execution_count": null,
      "outputs": []
    },
    {
      "cell_type": "code",
      "source": [
        "val_plot_dir = data_dir/f'{chunk_size}_fsc_ssc_area_plots/val'\n",
        "#val_plot_dir.mkdir(exist_ok=True, parents=True)\n",
        "(val_plot_dir/\"healthy\").mkdir(exist_ok=True, parents=True)\n",
        "(val_plot_dir/\"sick\").mkdir(exist_ok=True, parents=True)\n",
        "\n",
        "for file_flow_id in tqdm(val_file_flow_ids):\n",
        "    fcs_file = next((data_dir/f'raw_fcs/{file_flow_id}').glob(\"*.fcs\"))\n",
        "    wuhan = df_summary.loc[df_summary[\"file_flow_id\"] == file_flow_id, \"wuhan\"]\n",
        "    for k, chunk in enumerate(get_fsc_ssc_chunks(\n",
        "        fcs_file,\n",
        "        chunk_size=chunk_size,\n",
        "        typ=typ,\n",
        "        gate_fraction=gate_fraction,\n",
        "    )):\n",
        "        # print(f'{wuhan. = }')\n",
        "        wuhan = int(wuhan)\n",
        "        if wuhan:\n",
        "            plot_file = val_plot_dir/f'sick/{int(wuhan)}_{file_flow_id}_chunk_{k}.png'\n",
        "        else:\n",
        "            plot_file = val_plot_dir/f'healthy/{int(wuhan)}_{file_flow_id}_chunk_{k}.png'\n",
        "\n",
        "        FlowCal.plot.density2d(\n",
        "            chunk,\n",
        "            mode=\"scatter\",\n",
        "            savefig=plot_file,\n",
        "        )"
      ],
      "metadata": {
        "colab": {
          "base_uri": "https://localhost:8080/",
          "height": 49,
          "referenced_widgets": [
            "027694b435a449b5915e55cb9e2136b2",
            "4717b4d874ab40108e6a23a28109ac7f",
            "4d9a734abf144d8fbdd80ca0431bd7a3",
            "483c9405fd2e47719903122e6c2dacbf",
            "49fda55f9971413688d6dc76c6099fb2",
            "1fb58161e022456298e73398e0537db4",
            "fe16e9555dbd4fea840eae7dd58e7f21",
            "865cce75ed6a433f876cfca81c5c0fdd",
            "a4fc2829324c47c78ba17fc7bc67bc3f",
            "3e6e71d2598a4cb28945f23642b2481a",
            "f766cc78c51b4818a7b5702b3de3a8c8"
          ]
        },
        "id": "a4bT8Try1FS4",
        "outputId": "92d628f6-80f8-4c47-ed83-f30003ade930"
      },
      "execution_count": null,
      "outputs": [
        {
          "output_type": "display_data",
          "data": {
            "text/plain": [
              "  0%|          | 0/4 [00:00<?, ?it/s]"
            ],
            "application/vnd.jupyter.widget-view+json": {
              "version_major": 2,
              "version_minor": 0,
              "model_id": "027694b435a449b5915e55cb9e2136b2"
            }
          },
          "metadata": {}
        }
      ]
    },
    {
      "cell_type": "code",
      "source": [],
      "metadata": {
        "id": "yGIzCFgj4F3p"
      },
      "execution_count": null,
      "outputs": []
    }
  ]
}